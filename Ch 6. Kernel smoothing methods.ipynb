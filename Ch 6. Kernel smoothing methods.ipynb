{
 "cells": [
  {
   "cell_type": "markdown",
   "metadata": {},
   "source": [
    "# Ch 6. Kernel smoothing methods"
   ]
  },
  {
   "cell_type": "code",
   "execution_count": 13,
   "metadata": {},
   "outputs": [],
   "source": [
    "# Import dependent packages\n",
    "import matplotlib.pyplot as plt\n",
    "import numpy as np\n",
    "import pandas as pd\n",
    "import seaborn as sns\n",
    "import os\n",
    "from sklearn.model_selection import train_test_split\n",
    "from sklearn.preprocessing import minmax_scale\n",
    "from sklearn.preprocessing import Normalizer\n",
    "from sklearn.preprocessing import scale\n",
    "import scipy as sp\n",
    "from scipy import linalg\n",
    "plt.style.use('seaborn')\n",
    "from sklearn.discriminant_analysis import LinearDiscriminantAnalysis\n",
    "from sklearn.model_selection import RepeatedStratifiedKFold\n",
    "from sklearn.model_selection import cross_val_score\n",
    "from sklearn import metrics \n",
    "from sklearn.linear_model import LogisticRegression\n",
    "from sklego.linear_model import LowessRegression\n",
    "from statsmodels.nonparametric.smoothers_lowess import lowess as  sm_lowess\n",
    "from sklego.linear_model import LowessRegression\n",
    "import numpy.linalg as la\n",
    "from sklearn.neighbors import KernelDensity\n",
    "from scipy.stats import kde\n"
   ]
  },
  {
   "cell_type": "code",
   "execution_count": 29,
   "metadata": {},
   "outputs": [],
   "source": [
    "### Function takes two feature transform methods: normalization and MiniMaxScale\n",
    "def feature_prerpocess(data, form = 'normal'):\n",
    "    if form == \"normal\":\n",
    "        new_data = scale(data)\n",
    "    elif form == \"MinMax\":\n",
    "        new_data = minmax_scale(data)\n",
    "    return pd.DataFrame(new_data)"
   ]
  },
  {
   "cell_type": "markdown",
   "metadata": {},
   "source": [
    "## 6.1: One-Dimensional Kernel Smoothers"
   ]
  },
  {
   "cell_type": "markdown",
   "metadata": {},
   "source": [
    "### 6.1.1: Local regression"
   ]
  },
  {
   "cell_type": "markdown",
   "metadata": {},
   "source": [
    "Locallly weighted regression solves a separate weighted least squares problem at each target point $x_0$:\n",
    "\n",
    "- Univarite:\n",
    "\\begin{equation}\n",
    "min_{\\alpha(x_0), \\beta(x_0)} = \\sum_{i=1}^{N} K_{\\lambda}(x_0,x_i)[y_i-\\alpha(x_0)- \\beta(x_0)x_{i}]^2\n",
    "\\end{equation}\n",
    "\n",
    "where $K_{\\lambda}(x_0,x_i) = D(\\frac{|x-x_0|}{\\lambda})$\n",
    "\n",
    "- Multivarite:\n",
    "\\begin{equation}\n",
    "min_{\\beta(x_0)} = \\sum_{i=1}^{N} K_{\\lambda}(x_0,x_i)[y_i-b(x_i)^T \\beta(x_0)x_{i}]^2\n",
    "\\end{equation}\n",
    "\n",
    "where $b(x_i)^T=(1,x_1,...,x_p)$ and $K_{\\lambda}(x_0,x_i) = D(\\frac{||x-x_0||}{\\lambda})$"
   ]
  },
  {
   "cell_type": "markdown",
   "metadata": {},
   "source": [
    "There are three main forms of Kernel functions:\n",
    "1. Epanechnikov quadratic kernel:\n",
    "\n",
    "\\begin{equation}\n",
    "D(t) = \n",
    "  \\begin{cases}\n",
    "   \\frac{3}{4}(1-t^2)    & \\quad \\text{if } |t|\\leq 1\\\\\n",
    "    0  & \\quad \\text{otherwise}\n",
    "  \\end{cases}\n",
    "\\end{equation}\n",
    "\n",
    "2. Tri-cube function:\n",
    "\\begin{equation}\n",
    "D(t) = \n",
    "  \\begin{cases}\n",
    "   (1-|t|^3)^3  & \\quad \\text{if } |t|\\leq 1\\\\\n",
    "    0  & \\quad \\text{otherwise}\n",
    "  \\end{cases}\n",
    "\\end{equation}\n",
    "\n",
    "3. Gaussian kernel function:\n",
    "\\begin{equation}\n",
    "D(t) = \\Phi(t)\n",
    "\\end{equation}\n",
    "where $\\Phi(t)$ is the Normal cumulative distribution function"
   ]
  },
  {
   "cell_type": "code",
   "execution_count": 2,
   "metadata": {},
   "outputs": [],
   "source": [
    "# 1. Epanechnikov quadratic kernel\n",
    "def Epanechnikov(X_distance, **kwargs):\n",
    "    l = kwargs.get('l', 1.0)\n",
    "    ans = np.zeros(X_distance.shape)\n",
    "    X_distance_norm = X_distance / l\n",
    "    idx = np.where(X_distance_norm <= 1)\n",
    "    ans[idx] = 0.75 * (1 - X_distance_norm[idx]  ** 2)\n",
    "    return ans\n",
    "\n",
    "# 2. Tri-cube function\n",
    "def Tri_cube(X_distance, **kwargs):\n",
    "    l = kwargs.get('l', 1.0)\n",
    "    ans = np.zeros(X_distance.shape)\n",
    "    X_distance_norm = X_distance / l\n",
    "    idx = np.where(X_distance_norm <= 1)\n",
    "    ans[idx] = (1 - np.abs(X_distance_norm[idx]) ** 3) ** 3\n",
    "    return ans\n",
    "\n",
    "def Kernel(x0, x, l=1.0, kernel=Epanechnikov):\n",
    "    # X_distance is the norm of x-x0.\n",
    "    X_distance = np.sqrt(np.sum(np.power(x - x0[:, np.newaxis], 2), 0))\n",
    "    return kernel(X_distance, l=l)"
   ]
  },
  {
   "cell_type": "code",
   "execution_count": 3,
   "metadata": {},
   "outputs": [],
   "source": [
    "def Lowess(x, y, x0, deg=1, kernel=Epanechnikov, l=1):\n",
    "    # x is d*n matrix, where d-dimension, n-sample size\n",
    "    # y np.ndarray, n*1 matrix\n",
    "    # x0 float array, dimension d*n\n",
    "    if not np.iterable(x0):\n",
    "        x0 = np.asarray([x0])\n",
    "    ans = np.zeros(x0.shape[-1])\n",
    "    # We need one design matrix for fitting:\n",
    "    B = [np.ones(x.shape[-1])]\n",
    "    for d in range(1, deg+1):\n",
    "        B.append(x ** deg)\n",
    "\n",
    "    B = np.vstack(B).T\n",
    "    for idx, this_x0 in enumerate(x0.T):\n",
    "        if not np.iterable(this_x0):\n",
    "            this_x0 = np.asarray([this_x0])\n",
    "        W = np.diag(Kernel(this_x0, x, l=l, kernel=kernel))\n",
    "        BtWB = np.dot(np.dot(B.T, W), B)\n",
    "        BtW = np.dot(B.T, W)\n",
    "        # Get the params:\n",
    "        beta = np.dot(np.dot(la.pinv(BtWB), BtW), y.T)\n",
    "        B0 = [1]\n",
    "        for d in range(1, deg+1):\n",
    "            B0 = np.hstack([B0, this_x0 ** deg])\n",
    "        B0 = np.vstack(B0).T\n",
    "        # Estimate the answer based on the parameters:\n",
    "        ans[idx] += np.dot(B0, beta)\n",
    "    return ans.T"
   ]
  },
  {
   "cell_type": "code",
   "execution_count": 16,
   "metadata": {},
   "outputs": [],
   "source": [
    "x = np.random.randn(1, 500)\n",
    "y = -3.5 * np.sin(x) + 2.5 * np.cos(x) + np.random.randn(500)\n",
    "y_line = -3.5 * np.sin(x) + 2.5 * np.cos(x)\n",
    "x0 = np.linspace(-4, 4, 10)"
   ]
  },
  {
   "cell_type": "code",
   "execution_count": 5,
   "metadata": {},
   "outputs": [],
   "source": [
    "y_predicted_Epanechnikov = Lowess(x, y, x0)"
   ]
  },
  {
   "cell_type": "code",
   "execution_count": 6,
   "metadata": {},
   "outputs": [],
   "source": [
    "y_predicted_Tri_cube = Lowess(x, y, x0, kernel=Tri_cube)"
   ]
  },
  {
   "cell_type": "code",
   "execution_count": 7,
   "metadata": {},
   "outputs": [
    {
     "data": {
      "text/plain": [
       "<matplotlib.legend.Legend at 0x14f503d6d90>"
      ]
     },
     "execution_count": 7,
     "metadata": {},
     "output_type": "execute_result"
    },
    {
     "data": {
      "image/png": "[encoded data removed]",
      "text/plain": [
       "<Figure size 576x396 with 1 Axes>"
      ]
     },
     "metadata": {},
     "output_type": "display_data"
    }
   ],
   "source": [
    "fig, ax = plt.subplots(1)\n",
    "_ = ax.scatter(x, y)\n",
    "_ = ax.plot(x0, y_predicted_Epanechnikov, color='green', label=\"Epanechnikov\")\n",
    "_ = ax.plot(x0, y_predicted_Tri_cube, color='red', label=\"Tri_cube\")\n",
    "ax.set(xlabel='x', ylabel='y',\n",
    "       title='Local regression with Epanechnikov kernel');\n",
    "plt.legend(loc=\"upper right\")"
   ]
  },
  {
   "cell_type": "markdown",
   "metadata": {},
   "source": [
    "### 6.1.2: Local regression"
   ]
  },
  {
   "cell_type": "markdown",
   "metadata": {},
   "source": [
    "Locallly weighted regression solves a separate weighted least squares problem at each target point $x_0$:\n",
    "\n",
    "- Univarite:\n",
    "\\begin{equation}\n",
    "min_{\\alpha(x_0), \\beta(x_0)} = \\sum_{i=1}^{N} K_{\\lambda}(x_0,x_i)[y_i-\\alpha(x_0)- \\sum_{j=1}^{p}\\beta(x_0)x_{i}^j]^2\n",
    "\\end{equation}\n",
    "\n",
    "where $K_{\\lambda}(x_0,x_i) = D(\\frac{|x-x_0|}{\\lambda})$\n",
    "\n",
    "- Multivarite:\n",
    "\\begin{equation}\n",
    "min_{\\beta(x_0)} = \\sum_{i=1}^{N} K_{\\lambda}(x_0,x_i)[y_i-b(x_i)^T \\beta(x_0)x_{i}]^2\n",
    "\\end{equation}\n",
    "\n",
    "where $b(x)$ is a vector of polynomial terms with degree p.For example, with p=2 we get $b(x_i)=(1,x_{1,i},x_{2,i},x_{1,i}^2,x_{2,i}^2,x_{1,i}x_{2,i})$, and $K_{\\lambda}(x_0,x_i) = D(\\frac{||x-x_0||}{\\lambda})$"
   ]
  },
  {
   "cell_type": "code",
   "execution_count": 8,
   "metadata": {},
   "outputs": [],
   "source": [
    "y_predicted_Epanechnikov = Lowess(x, y, x0, l=0.2, deg=2)\n",
    "y_predicted_Tri_cube = Lowess(x, y, x0, deg=2, l=0.2, kernel=Tri_cube)"
   ]
  },
  {
   "cell_type": "code",
   "execution_count": 9,
   "metadata": {
    "scrolled": true
   },
   "outputs": [
    {
     "data": {
      "text/plain": [
       "<matplotlib.legend.Legend at 0x14f504f03d0>"
      ]
     },
     "execution_count": 9,
     "metadata": {},
     "output_type": "execute_result"
    },
    {
     "data": {
      "image/png": "[encoded data removed]",
      "text/plain": [
       "<Figure size 576x396 with 1 Axes>"
      ]
     },
     "metadata": {},
     "output_type": "display_data"
    }
   ],
   "source": [
    "fig, ax = plt.subplots(1)\n",
    "_ = ax.scatter(x, y)\n",
    "_ = ax.plot(x0, y_predicted_Epanechnikov, color='green', label=\"Epanechnikov\")\n",
    "_ = ax.plot(x0, y_predicted_Tri_cube, color='red', label=\"Tri_cube\")\n",
    "ax.set(xlabel='x', ylabel='y',\n",
    "       title='Local regression with Epanechnikov kernel');\n",
    "plt.legend(loc=\"upper right\")"
   ]
  },
  {
   "cell_type": "markdown",
   "metadata": {},
   "source": [
    "## 6.6: Kernal density estimation and classififcation"
   ]
  },
  {
   "cell_type": "markdown",
   "metadata": {},
   "source": [
    "### 6.6.1: Kernel density estimation "
   ]
  },
  {
   "cell_type": "markdown",
   "metadata": {},
   "source": [
    "The Parzen estimate is of the form:\n",
    "\n",
    "\\begin{equation}\n",
    "\\hat{f_X(x_0)}= \\frac{1}{N\\lambda} \\sum_{i=1}^{N} K_{\\lambda}(x_0,x_i)\n",
    "\\end{equation}\n",
    "\n",
    "where, $x_1,...,x_N$ is a random sample, $\\lambda$ is a width parameter"
   ]
  },
  {
   "cell_type": "markdown",
   "metadata": {},
   "source": [
    "We will use \"Seoul Bike\" dataset, it can can be downloaded:\n",
    "* <a href=\"https://www.kaggle.com/c/seoul-bike-rental-prediction/data\">Seoul Bike Rental Prediction\n",
    "    \n",
    "The dataset contains weather information (Temperature, Humidity, Windspeed, Visibility, Dewpoint, Solar radiation, Snowfall, Rainfall), the number of bikes rented per hour and date information. The target variable is a bike count required at each hour."
   ]
  },
  {
   "cell_type": "code",
   "execution_count": 10,
   "metadata": {},
   "outputs": [
    {
     "data": {
      "text/html": [
       "<div>\n",
       "<style scoped>\n",
       "    .dataframe tbody tr th:only-of-type {\n",
       "        vertical-align: middle;\n",
       "    }\n",
       "\n",
       "    .dataframe tbody tr th {\n",
       "        vertical-align: top;\n",
       "    }\n",
       "\n",
       "    .dataframe thead th {\n",
       "        text-align: right;\n",
       "    }\n",
       "</style>\n",
       "<table border=\"1\" class=\"dataframe\">\n",
       "  <thead>\n",
       "    <tr style=\"text-align: right;\">\n",
       "      <th></th>\n",
       "      <th>Date</th>\n",
       "      <th>Rented Bike Count</th>\n",
       "      <th>Hour</th>\n",
       "      <th>Temperature(°C)</th>\n",
       "      <th>Humidity(%)</th>\n",
       "      <th>Wind speed (m/s)</th>\n",
       "      <th>Visibility (10m)</th>\n",
       "      <th>Dew point temperature(°C)</th>\n",
       "      <th>Solar Radiation (MJ/m2)</th>\n",
       "      <th>Rainfall(mm)</th>\n",
       "      <th>Snowfall (cm)</th>\n",
       "      <th>Seasons</th>\n",
       "      <th>Holiday</th>\n",
       "      <th>Functioning Day</th>\n",
       "    </tr>\n",
       "  </thead>\n",
       "  <tbody>\n",
       "    <tr>\n",
       "      <th>0</th>\n",
       "      <td>01/12/2017</td>\n",
       "      <td>254</td>\n",
       "      <td>0</td>\n",
       "      <td>-5.2</td>\n",
       "      <td>37</td>\n",
       "      <td>2.2</td>\n",
       "      <td>2000</td>\n",
       "      <td>-17.6</td>\n",
       "      <td>0.0</td>\n",
       "      <td>0.0</td>\n",
       "      <td>0.0</td>\n",
       "      <td>Winter</td>\n",
       "      <td>No Holiday</td>\n",
       "      <td>Yes</td>\n",
       "    </tr>\n",
       "    <tr>\n",
       "      <th>1</th>\n",
       "      <td>01/12/2017</td>\n",
       "      <td>204</td>\n",
       "      <td>1</td>\n",
       "      <td>-5.5</td>\n",
       "      <td>38</td>\n",
       "      <td>0.8</td>\n",
       "      <td>2000</td>\n",
       "      <td>-17.6</td>\n",
       "      <td>0.0</td>\n",
       "      <td>0.0</td>\n",
       "      <td>0.0</td>\n",
       "      <td>Winter</td>\n",
       "      <td>No Holiday</td>\n",
       "      <td>Yes</td>\n",
       "    </tr>\n",
       "    <tr>\n",
       "      <th>2</th>\n",
       "      <td>01/12/2017</td>\n",
       "      <td>173</td>\n",
       "      <td>2</td>\n",
       "      <td>-6.0</td>\n",
       "      <td>39</td>\n",
       "      <td>1.0</td>\n",
       "      <td>2000</td>\n",
       "      <td>-17.7</td>\n",
       "      <td>0.0</td>\n",
       "      <td>0.0</td>\n",
       "      <td>0.0</td>\n",
       "      <td>Winter</td>\n",
       "      <td>No Holiday</td>\n",
       "      <td>Yes</td>\n",
       "    </tr>\n",
       "    <tr>\n",
       "      <th>3</th>\n",
       "      <td>01/12/2017</td>\n",
       "      <td>107</td>\n",
       "      <td>3</td>\n",
       "      <td>-6.2</td>\n",
       "      <td>40</td>\n",
       "      <td>0.9</td>\n",
       "      <td>2000</td>\n",
       "      <td>-17.6</td>\n",
       "      <td>0.0</td>\n",
       "      <td>0.0</td>\n",
       "      <td>0.0</td>\n",
       "      <td>Winter</td>\n",
       "      <td>No Holiday</td>\n",
       "      <td>Yes</td>\n",
       "    </tr>\n",
       "    <tr>\n",
       "      <th>4</th>\n",
       "      <td>01/12/2017</td>\n",
       "      <td>78</td>\n",
       "      <td>4</td>\n",
       "      <td>-6.0</td>\n",
       "      <td>36</td>\n",
       "      <td>2.3</td>\n",
       "      <td>2000</td>\n",
       "      <td>-18.6</td>\n",
       "      <td>0.0</td>\n",
       "      <td>0.0</td>\n",
       "      <td>0.0</td>\n",
       "      <td>Winter</td>\n",
       "      <td>No Holiday</td>\n",
       "      <td>Yes</td>\n",
       "    </tr>\n",
       "    <tr>\n",
       "      <th>...</th>\n",
       "      <td>...</td>\n",
       "      <td>...</td>\n",
       "      <td>...</td>\n",
       "      <td>...</td>\n",
       "      <td>...</td>\n",
       "      <td>...</td>\n",
       "      <td>...</td>\n",
       "      <td>...</td>\n",
       "      <td>...</td>\n",
       "      <td>...</td>\n",
       "      <td>...</td>\n",
       "      <td>...</td>\n",
       "      <td>...</td>\n",
       "      <td>...</td>\n",
       "    </tr>\n",
       "    <tr>\n",
       "      <th>8755</th>\n",
       "      <td>30/11/2018</td>\n",
       "      <td>1003</td>\n",
       "      <td>19</td>\n",
       "      <td>4.2</td>\n",
       "      <td>34</td>\n",
       "      <td>2.6</td>\n",
       "      <td>1894</td>\n",
       "      <td>-10.3</td>\n",
       "      <td>0.0</td>\n",
       "      <td>0.0</td>\n",
       "      <td>0.0</td>\n",
       "      <td>Autumn</td>\n",
       "      <td>No Holiday</td>\n",
       "      <td>Yes</td>\n",
       "    </tr>\n",
       "    <tr>\n",
       "      <th>8756</th>\n",
       "      <td>30/11/2018</td>\n",
       "      <td>764</td>\n",
       "      <td>20</td>\n",
       "      <td>3.4</td>\n",
       "      <td>37</td>\n",
       "      <td>2.3</td>\n",
       "      <td>2000</td>\n",
       "      <td>-9.9</td>\n",
       "      <td>0.0</td>\n",
       "      <td>0.0</td>\n",
       "      <td>0.0</td>\n",
       "      <td>Autumn</td>\n",
       "      <td>No Holiday</td>\n",
       "      <td>Yes</td>\n",
       "    </tr>\n",
       "    <tr>\n",
       "      <th>8757</th>\n",
       "      <td>30/11/2018</td>\n",
       "      <td>694</td>\n",
       "      <td>21</td>\n",
       "      <td>2.6</td>\n",
       "      <td>39</td>\n",
       "      <td>0.3</td>\n",
       "      <td>1968</td>\n",
       "      <td>-9.9</td>\n",
       "      <td>0.0</td>\n",
       "      <td>0.0</td>\n",
       "      <td>0.0</td>\n",
       "      <td>Autumn</td>\n",
       "      <td>No Holiday</td>\n",
       "      <td>Yes</td>\n",
       "    </tr>\n",
       "    <tr>\n",
       "      <th>8758</th>\n",
       "      <td>30/11/2018</td>\n",
       "      <td>712</td>\n",
       "      <td>22</td>\n",
       "      <td>2.1</td>\n",
       "      <td>41</td>\n",
       "      <td>1.0</td>\n",
       "      <td>1859</td>\n",
       "      <td>-9.8</td>\n",
       "      <td>0.0</td>\n",
       "      <td>0.0</td>\n",
       "      <td>0.0</td>\n",
       "      <td>Autumn</td>\n",
       "      <td>No Holiday</td>\n",
       "      <td>Yes</td>\n",
       "    </tr>\n",
       "    <tr>\n",
       "      <th>8759</th>\n",
       "      <td>30/11/2018</td>\n",
       "      <td>584</td>\n",
       "      <td>23</td>\n",
       "      <td>1.9</td>\n",
       "      <td>43</td>\n",
       "      <td>1.3</td>\n",
       "      <td>1909</td>\n",
       "      <td>-9.3</td>\n",
       "      <td>0.0</td>\n",
       "      <td>0.0</td>\n",
       "      <td>0.0</td>\n",
       "      <td>Autumn</td>\n",
       "      <td>No Holiday</td>\n",
       "      <td>Yes</td>\n",
       "    </tr>\n",
       "  </tbody>\n",
       "</table>\n",
       "<p>8760 rows × 14 columns</p>\n",
       "</div>"
      ],
      "text/plain": [
       "            Date  Rented Bike Count  Hour  Temperature(°C)  Humidity(%)  \\\n",
       "0     01/12/2017                254     0             -5.2           37   \n",
       "1     01/12/2017                204     1             -5.5           38   \n",
       "2     01/12/2017                173     2             -6.0           39   \n",
       "3     01/12/2017                107     3             -6.2           40   \n",
       "4     01/12/2017                 78     4             -6.0           36   \n",
       "...          ...                ...   ...              ...          ...   \n",
       "8755  30/11/2018               1003    19              4.2           34   \n",
       "8756  30/11/2018                764    20              3.4           37   \n",
       "8757  30/11/2018                694    21              2.6           39   \n",
       "8758  30/11/2018                712    22              2.1           41   \n",
       "8759  30/11/2018                584    23              1.9           43   \n",
       "\n",
       "      Wind speed (m/s)  Visibility (10m)  Dew point temperature(°C)  \\\n",
       "0                  2.2              2000                      -17.6   \n",
       "1                  0.8              2000                      -17.6   \n",
       "2                  1.0              2000                      -17.7   \n",
       "3                  0.9              2000                      -17.6   \n",
       "4                  2.3              2000                      -18.6   \n",
       "...                ...               ...                        ...   \n",
       "8755               2.6              1894                      -10.3   \n",
       "8756               2.3              2000                       -9.9   \n",
       "8757               0.3              1968                       -9.9   \n",
       "8758               1.0              1859                       -9.8   \n",
       "8759               1.3              1909                       -9.3   \n",
       "\n",
       "      Solar Radiation (MJ/m2)  Rainfall(mm)  Snowfall (cm) Seasons  \\\n",
       "0                         0.0           0.0            0.0  Winter   \n",
       "1                         0.0           0.0            0.0  Winter   \n",
       "2                         0.0           0.0            0.0  Winter   \n",
       "3                         0.0           0.0            0.0  Winter   \n",
       "4                         0.0           0.0            0.0  Winter   \n",
       "...                       ...           ...            ...     ...   \n",
       "8755                      0.0           0.0            0.0  Autumn   \n",
       "8756                      0.0           0.0            0.0  Autumn   \n",
       "8757                      0.0           0.0            0.0  Autumn   \n",
       "8758                      0.0           0.0            0.0  Autumn   \n",
       "8759                      0.0           0.0            0.0  Autumn   \n",
       "\n",
       "         Holiday Functioning Day  \n",
       "0     No Holiday             Yes  \n",
       "1     No Holiday             Yes  \n",
       "2     No Holiday             Yes  \n",
       "3     No Holiday             Yes  \n",
       "4     No Holiday             Yes  \n",
       "...          ...             ...  \n",
       "8755  No Holiday             Yes  \n",
       "8756  No Holiday             Yes  \n",
       "8757  No Holiday             Yes  \n",
       "8758  No Holiday             Yes  \n",
       "8759  No Holiday             Yes  \n",
       "\n",
       "[8760 rows x 14 columns]"
      ]
     },
     "execution_count": 10,
     "metadata": {},
     "output_type": "execute_result"
    }
   ],
   "source": [
    "#Download data \n",
    "Seoul_bike = pd.read_csv('SeoulBikeData.csv', sep=',', encoding= 'unicode_escape')\n",
    "Seoul_bike"
   ]
  },
  {
   "cell_type": "code",
   "execution_count": 11,
   "metadata": {},
   "outputs": [
    {
     "data": {
      "text/plain": [
       "0    -5.2\n",
       "1    -5.5\n",
       "2    -6.0\n",
       "3    -6.2\n",
       "4    -6.0\n",
       "     ... \n",
       "95   -5.8\n",
       "96   -6.1\n",
       "97   -6.5\n",
       "98   -6.8\n",
       "99   -6.9\n",
       "Name: Temperature(°C), Length: 100, dtype: float64"
      ]
     },
     "execution_count": 11,
     "metadata": {},
     "output_type": "execute_result"
    }
   ],
   "source": [
    "# we choose temperature variable\n",
    "X_var = Seoul_bike.iloc[:100, 3]\n",
    "X_var"
   ]
  },
  {
   "cell_type": "code",
   "execution_count": 12,
   "metadata": {
    "scrolled": true
   },
   "outputs": [
    {
     "name": "stderr",
     "output_type": "stream",
     "text": [
      "C:\\Users\\NysanAskar\\anaconda3\\lib\\site-packages\\seaborn\\distributions.py:1668: UserWarning: Support for alternate kernels has been removed. Using Gaussian kernel.\n",
      "  warnings.warn(msg, UserWarning)\n",
      "C:\\Users\\NysanAskar\\anaconda3\\lib\\site-packages\\seaborn\\distributions.py:1668: UserWarning: Support for alternate kernels has been removed. Using Gaussian kernel.\n",
      "  warnings.warn(msg, UserWarning)\n",
      "C:\\Users\\NysanAskar\\anaconda3\\lib\\site-packages\\seaborn\\distributions.py:1668: UserWarning: Support for alternate kernels has been removed. Using Gaussian kernel.\n",
      "  warnings.warn(msg, UserWarning)\n"
     ]
    },
    {
     "data": {
      "text/plain": [
       "<AxesSubplot:xlabel='Temperature(°C)', ylabel='Density'>"
      ]
     },
     "execution_count": 12,
     "metadata": {},
     "output_type": "execute_result"
    },
    {
     "data": {
      "image/png": "[encoded data removed]",
      "text/plain": [
       "<Figure size 576x396 with 1 Axes>"
      ]
     },
     "metadata": {},
     "output_type": "display_data"
    }
   ],
   "source": [
    "sns.kdeplot(data=Seoul_bike, x=\"Temperature(°C)\", bw_adjust=0.2, kernel=\"gau\")\n",
    "sns.kdeplot(data=Seoul_bike, x=\"Temperature(°C)\", bw_adjust=0.5, kernel=\"trw\")\n",
    "sns.kdeplot(data=Seoul_bike, x=\"Temperature(°C)\", bw_adjust=1, kernel=\"epa\")"
   ]
  },
  {
   "cell_type": "markdown",
   "metadata": {},
   "source": [
    "### 6.6.2: Kernel density classifiction "
   ]
  },
  {
   "cell_type": "markdown",
   "metadata": {},
   "source": [
    "We can use nonparametric density estimates for the classification problem using Bayes' theorem:\n",
    "\n",
    "\\begin{equation}\n",
    "Pr(G=j|X=x_0)=\\frac{\\hat{f_j(x_0)\\hat{\\pi_j}}}{\\sum_{k=1}^{J}\\hat{f_k(x_0)}\\hat{\\pi_k}}\n",
    "\\end{equation}\n",
    "\n",
    "\\begin{equation}\n",
    "\\hat{\\pi_j} = \\frac{1}{n}\\sum_{i=1}^{n}I(Y_i=y)\n",
    "\\end{equation}\n",
    "\n",
    "\\begin{equation}\n",
    "\\hat{f_k(x_0)} = \\frac{1}{n_y\\lambda}\\sum_{i=1}^{n}I(Y_i=y)K_{\\lambda}(x_0,x_i)\n",
    "\\end{equation}"
   ]
  },
  {
   "cell_type": "markdown",
   "metadata": {},
   "source": [
    "We will use \"Audit\" dataset, it can be downloaded:\n",
    "* <a href=\"https://archive.ics.uci.edu/ml/datasets/Audit+Data#\">Audit Dataset\n",
    "    \n",
    "The dataset contains 777 different firms that are collected from six distinct sectors. The information about the sectors and the counts of firms are listed respectively as Irrigation (114), Public Health (77), Buildings and Roads (82), Forest (70), Corporate (47), Animal Husbandry (95), Communication (1), Electrical (4), Land (5), Science and Technology (3), Tourism (1), Fisheries (41), Industries (37), Agriculture (200). Many risk factors are examined from various areas like past records of audit office, audit-paras, environmental conditions reports, firm reputation summary, on-going issues report, profit-value records, loss-value records, follow-up reports etc."
   ]
  },
  {
   "cell_type": "code",
   "execution_count": 20,
   "metadata": {},
   "outputs": [
    {
     "data": {
      "text/html": [
       "<div>\n",
       "<style scoped>\n",
       "    .dataframe tbody tr th:only-of-type {\n",
       "        vertical-align: middle;\n",
       "    }\n",
       "\n",
       "    .dataframe tbody tr th {\n",
       "        vertical-align: top;\n",
       "    }\n",
       "\n",
       "    .dataframe thead th {\n",
       "        text-align: right;\n",
       "    }\n",
       "</style>\n",
       "<table border=\"1\" class=\"dataframe\">\n",
       "  <thead>\n",
       "    <tr style=\"text-align: right;\">\n",
       "      <th></th>\n",
       "      <th>Sector_score</th>\n",
       "      <th>PARA_A</th>\n",
       "      <th>Score_A</th>\n",
       "      <th>Risk_A</th>\n",
       "      <th>PARA_B</th>\n",
       "      <th>Score_B</th>\n",
       "      <th>Risk_B</th>\n",
       "      <th>TOTAL</th>\n",
       "      <th>numbers</th>\n",
       "      <th>Score_B.1</th>\n",
       "      <th>...</th>\n",
       "      <th>RiSk_E</th>\n",
       "      <th>History</th>\n",
       "      <th>Prob</th>\n",
       "      <th>Risk_F</th>\n",
       "      <th>Score</th>\n",
       "      <th>Inherent_Risk</th>\n",
       "      <th>CONTROL_RISK</th>\n",
       "      <th>Detection_Risk</th>\n",
       "      <th>Audit_Risk</th>\n",
       "      <th>Risk</th>\n",
       "    </tr>\n",
       "  </thead>\n",
       "  <tbody>\n",
       "    <tr>\n",
       "      <th>count</th>\n",
       "      <td>776.000000</td>\n",
       "      <td>776.000000</td>\n",
       "      <td>776.000000</td>\n",
       "      <td>776.000000</td>\n",
       "      <td>776.000000</td>\n",
       "      <td>776.000000</td>\n",
       "      <td>776.000000</td>\n",
       "      <td>776.000000</td>\n",
       "      <td>776.000000</td>\n",
       "      <td>776.000000</td>\n",
       "      <td>...</td>\n",
       "      <td>776.000000</td>\n",
       "      <td>776.000000</td>\n",
       "      <td>776.000000</td>\n",
       "      <td>776.000000</td>\n",
       "      <td>776.000000</td>\n",
       "      <td>776.000000</td>\n",
       "      <td>776.000000</td>\n",
       "      <td>776.0</td>\n",
       "      <td>776.000000</td>\n",
       "      <td>776.000000</td>\n",
       "    </tr>\n",
       "    <tr>\n",
       "      <th>mean</th>\n",
       "      <td>20.184536</td>\n",
       "      <td>2.450194</td>\n",
       "      <td>0.351289</td>\n",
       "      <td>1.351029</td>\n",
       "      <td>10.799988</td>\n",
       "      <td>0.313144</td>\n",
       "      <td>6.334008</td>\n",
       "      <td>13.218481</td>\n",
       "      <td>5.067655</td>\n",
       "      <td>0.223711</td>\n",
       "      <td>...</td>\n",
       "      <td>0.519072</td>\n",
       "      <td>0.104381</td>\n",
       "      <td>0.216753</td>\n",
       "      <td>0.053608</td>\n",
       "      <td>2.702577</td>\n",
       "      <td>17.680612</td>\n",
       "      <td>0.572680</td>\n",
       "      <td>0.5</td>\n",
       "      <td>7.168158</td>\n",
       "      <td>0.393041</td>\n",
       "    </tr>\n",
       "    <tr>\n",
       "      <th>std</th>\n",
       "      <td>24.319017</td>\n",
       "      <td>5.678870</td>\n",
       "      <td>0.174055</td>\n",
       "      <td>3.440447</td>\n",
       "      <td>50.083624</td>\n",
       "      <td>0.169804</td>\n",
       "      <td>30.072845</td>\n",
       "      <td>51.312829</td>\n",
       "      <td>0.264449</td>\n",
       "      <td>0.080352</td>\n",
       "      <td>...</td>\n",
       "      <td>0.290312</td>\n",
       "      <td>0.531031</td>\n",
       "      <td>0.067987</td>\n",
       "      <td>0.305835</td>\n",
       "      <td>0.858923</td>\n",
       "      <td>54.740244</td>\n",
       "      <td>0.444581</td>\n",
       "      <td>0.0</td>\n",
       "      <td>38.667494</td>\n",
       "      <td>0.488741</td>\n",
       "    </tr>\n",
       "    <tr>\n",
       "      <th>min</th>\n",
       "      <td>1.850000</td>\n",
       "      <td>0.000000</td>\n",
       "      <td>0.200000</td>\n",
       "      <td>0.000000</td>\n",
       "      <td>0.000000</td>\n",
       "      <td>0.200000</td>\n",
       "      <td>0.000000</td>\n",
       "      <td>0.000000</td>\n",
       "      <td>5.000000</td>\n",
       "      <td>0.200000</td>\n",
       "      <td>...</td>\n",
       "      <td>0.400000</td>\n",
       "      <td>0.000000</td>\n",
       "      <td>0.200000</td>\n",
       "      <td>0.000000</td>\n",
       "      <td>2.000000</td>\n",
       "      <td>1.400000</td>\n",
       "      <td>0.400000</td>\n",
       "      <td>0.5</td>\n",
       "      <td>0.280000</td>\n",
       "      <td>0.000000</td>\n",
       "    </tr>\n",
       "    <tr>\n",
       "      <th>25%</th>\n",
       "      <td>2.370000</td>\n",
       "      <td>0.210000</td>\n",
       "      <td>0.200000</td>\n",
       "      <td>0.042000</td>\n",
       "      <td>0.000000</td>\n",
       "      <td>0.200000</td>\n",
       "      <td>0.000000</td>\n",
       "      <td>0.537500</td>\n",
       "      <td>5.000000</td>\n",
       "      <td>0.200000</td>\n",
       "      <td>...</td>\n",
       "      <td>0.400000</td>\n",
       "      <td>0.000000</td>\n",
       "      <td>0.200000</td>\n",
       "      <td>0.000000</td>\n",
       "      <td>2.000000</td>\n",
       "      <td>1.583500</td>\n",
       "      <td>0.400000</td>\n",
       "      <td>0.5</td>\n",
       "      <td>0.316700</td>\n",
       "      <td>0.000000</td>\n",
       "    </tr>\n",
       "    <tr>\n",
       "      <th>50%</th>\n",
       "      <td>3.890000</td>\n",
       "      <td>0.875000</td>\n",
       "      <td>0.200000</td>\n",
       "      <td>0.175000</td>\n",
       "      <td>0.405000</td>\n",
       "      <td>0.200000</td>\n",
       "      <td>0.081000</td>\n",
       "      <td>1.370000</td>\n",
       "      <td>5.000000</td>\n",
       "      <td>0.200000</td>\n",
       "      <td>...</td>\n",
       "      <td>0.400000</td>\n",
       "      <td>0.000000</td>\n",
       "      <td>0.200000</td>\n",
       "      <td>0.000000</td>\n",
       "      <td>2.400000</td>\n",
       "      <td>2.214000</td>\n",
       "      <td>0.400000</td>\n",
       "      <td>0.5</td>\n",
       "      <td>0.555600</td>\n",
       "      <td>0.000000</td>\n",
       "    </tr>\n",
       "    <tr>\n",
       "      <th>75%</th>\n",
       "      <td>55.570000</td>\n",
       "      <td>2.480000</td>\n",
       "      <td>0.600000</td>\n",
       "      <td>1.488000</td>\n",
       "      <td>4.160000</td>\n",
       "      <td>0.400000</td>\n",
       "      <td>1.840500</td>\n",
       "      <td>7.707500</td>\n",
       "      <td>5.000000</td>\n",
       "      <td>0.200000</td>\n",
       "      <td>...</td>\n",
       "      <td>0.400000</td>\n",
       "      <td>0.000000</td>\n",
       "      <td>0.200000</td>\n",
       "      <td>0.000000</td>\n",
       "      <td>3.250000</td>\n",
       "      <td>10.663500</td>\n",
       "      <td>0.400000</td>\n",
       "      <td>0.5</td>\n",
       "      <td>3.249900</td>\n",
       "      <td>1.000000</td>\n",
       "    </tr>\n",
       "    <tr>\n",
       "      <th>max</th>\n",
       "      <td>59.850000</td>\n",
       "      <td>85.000000</td>\n",
       "      <td>0.600000</td>\n",
       "      <td>51.000000</td>\n",
       "      <td>1264.630000</td>\n",
       "      <td>0.600000</td>\n",
       "      <td>758.778000</td>\n",
       "      <td>1268.910000</td>\n",
       "      <td>9.000000</td>\n",
       "      <td>0.600000</td>\n",
       "      <td>...</td>\n",
       "      <td>2.400000</td>\n",
       "      <td>9.000000</td>\n",
       "      <td>0.600000</td>\n",
       "      <td>5.400000</td>\n",
       "      <td>5.200000</td>\n",
       "      <td>801.262000</td>\n",
       "      <td>5.800000</td>\n",
       "      <td>0.5</td>\n",
       "      <td>961.514400</td>\n",
       "      <td>1.000000</td>\n",
       "    </tr>\n",
       "  </tbody>\n",
       "</table>\n",
       "<p>8 rows × 26 columns</p>\n",
       "</div>"
      ],
      "text/plain": [
       "       Sector_score      PARA_A     Score_A      Risk_A       PARA_B  \\\n",
       "count    776.000000  776.000000  776.000000  776.000000   776.000000   \n",
       "mean      20.184536    2.450194    0.351289    1.351029    10.799988   \n",
       "std       24.319017    5.678870    0.174055    3.440447    50.083624   \n",
       "min        1.850000    0.000000    0.200000    0.000000     0.000000   \n",
       "25%        2.370000    0.210000    0.200000    0.042000     0.000000   \n",
       "50%        3.890000    0.875000    0.200000    0.175000     0.405000   \n",
       "75%       55.570000    2.480000    0.600000    1.488000     4.160000   \n",
       "max       59.850000   85.000000    0.600000   51.000000  1264.630000   \n",
       "\n",
       "          Score_B      Risk_B        TOTAL     numbers   Score_B.1  ...  \\\n",
       "count  776.000000  776.000000   776.000000  776.000000  776.000000  ...   \n",
       "mean     0.313144    6.334008    13.218481    5.067655    0.223711  ...   \n",
       "std      0.169804   30.072845    51.312829    0.264449    0.080352  ...   \n",
       "min      0.200000    0.000000     0.000000    5.000000    0.200000  ...   \n",
       "25%      0.200000    0.000000     0.537500    5.000000    0.200000  ...   \n",
       "50%      0.200000    0.081000     1.370000    5.000000    0.200000  ...   \n",
       "75%      0.400000    1.840500     7.707500    5.000000    0.200000  ...   \n",
       "max      0.600000  758.778000  1268.910000    9.000000    0.600000  ...   \n",
       "\n",
       "           RiSk_E     History        Prob      Risk_F       Score  \\\n",
       "count  776.000000  776.000000  776.000000  776.000000  776.000000   \n",
       "mean     0.519072    0.104381    0.216753    0.053608    2.702577   \n",
       "std      0.290312    0.531031    0.067987    0.305835    0.858923   \n",
       "min      0.400000    0.000000    0.200000    0.000000    2.000000   \n",
       "25%      0.400000    0.000000    0.200000    0.000000    2.000000   \n",
       "50%      0.400000    0.000000    0.200000    0.000000    2.400000   \n",
       "75%      0.400000    0.000000    0.200000    0.000000    3.250000   \n",
       "max      2.400000    9.000000    0.600000    5.400000    5.200000   \n",
       "\n",
       "       Inherent_Risk  CONTROL_RISK  Detection_Risk  Audit_Risk        Risk  \n",
       "count     776.000000    776.000000           776.0  776.000000  776.000000  \n",
       "mean       17.680612      0.572680             0.5    7.168158    0.393041  \n",
       "std        54.740244      0.444581             0.0   38.667494    0.488741  \n",
       "min         1.400000      0.400000             0.5    0.280000    0.000000  \n",
       "25%         1.583500      0.400000             0.5    0.316700    0.000000  \n",
       "50%         2.214000      0.400000             0.5    0.555600    0.000000  \n",
       "75%        10.663500      0.400000             0.5    3.249900    1.000000  \n",
       "max       801.262000      5.800000             0.5  961.514400    1.000000  \n",
       "\n",
       "[8 rows x 26 columns]"
      ]
     },
     "execution_count": 20,
     "metadata": {},
     "output_type": "execute_result"
    }
   ],
   "source": [
    "#Download data \n",
    "Audit = pd.read_csv('audit_risk.csv', sep=',', encoding= 'unicode_escape')\n",
    "Audit.describe()"
   ]
  },
  {
   "cell_type": "code",
   "execution_count": 30,
   "metadata": {},
   "outputs": [],
   "source": [
    "#Feature matrix\n",
    "X_matrix = Audit[Audit.columns[~Audit.columns.isin([\"LOCATION_ID\", 'Risk'])]]\n",
    "X_matrix = X_matrix.fillna(method ='pad') \n",
    "X_matrix = feature_prerpocess(X_matrix, form = 'normal')"
   ]
  },
  {
   "cell_type": "code",
   "execution_count": 43,
   "metadata": {},
   "outputs": [],
   "source": [
    "# Split dataset into training and test sets\n",
    "X_train, X_test, y_train, y_test = train_test_split(X_matrix, Y_var, test_size=0.30)"
   ]
  },
  {
   "cell_type": "code",
   "execution_count": 22,
   "metadata": {},
   "outputs": [],
   "source": [
    "# Response indicator matrix\n",
    "Y = Audit[[\"Risk\"]]\n",
    "Y_var = Audit[[\"Risk\"]]\n",
    "Y = Y.astype('str') \n",
    "Y_matrix = pd.get_dummies(Y)"
   ]
  },
  {
   "cell_type": "code",
   "execution_count": 74,
   "metadata": {},
   "outputs": [
    {
     "data": {
      "text/plain": [
       "0.17167381974248927"
      ]
     },
     "execution_count": 74,
     "metadata": {},
     "output_type": "execute_result"
    }
   ],
   "source": [
    "# Classification with Gaussian Kernel density function\n",
    "fraudulent_firm = pd.concat([X_train,y_train],axis=1)[pd.concat([X_train,y_train],axis=1)[\"Risk\"]==1]\n",
    "Not_fraudulent_firm = pd.concat([X_train,y_train],axis=1)[pd.concat([X_train,y_train],axis=1)[\"Risk\"]==0]\n",
    "score = []\n",
    "kde_model = KernelDensity(kernel='gaussian', bandwidth=0.2)\n",
    "for i in [fraudulent_firm, Not_fraudulent_firm]:\n",
    "    kde_model.fit(i.drop('Risk', axis=1))\n",
    "    score.append(np.exp(kde_model.score_samples(X_test)))\n",
    "    \n",
    "Y_fitted = pd.DataFrame(np.where(score[0]>score[1], 1,0))\n",
    "# Calculate error rate\n",
    "Error_rate = np.sum(np.abs(Y_fitted.iloc[:,0]-y_test.iloc[:,0]))/len(Y_fitted)\n",
    "Error_rate"
   ]
  },
  {
   "cell_type": "markdown",
   "metadata": {},
   "source": [
    "### 6.6.3: The naive Bayes classifier with Kernel density function "
   ]
  },
  {
   "cell_type": "markdown",
   "metadata": {},
   "source": [
    "When the dimension $p$ of the feature space is high, density estimation becomes a tedious task. The naive Bayes model assumes that given a class $G=j$, the features $X_k$ are independent: \n",
    "\n",
    "\\begin{equation} \n",
    "Pr(X=x_0|G=j)=\\prod_{k=1}^{p} Pr(X_k=x_{0k}|G=j)\n",
    "\\end{equation}\n",
    "\n",
    "Then we can derive the logit-transform (using $J$ class as the base):\n",
    "\n",
    "\\begin{equation} \n",
    "log \\frac{Pr(G=l|X=x_0)}{Pr(G=J|X=x_0)}=log\\frac{f_l(x_0)\\pi_l}{f_J(x_0)\\pi_J}=log\\frac{\\pi_l}{\\pi_J}+\\sum_{k=1}^{p}log\\frac{f_lk(x_k)}{f_Jk(x_k)}=log\\frac{\\pi_l}{\\pi_J}+\\sum_{k=1}^{p}(logf_lk(x_k)-logf_Jk(x_k))\n",
    "\\end{equation}\n",
    " where $f_l(x_0)=\\prod_{k=1}^{p} Pr(X_k=x_{0k}|G=l)$"
   ]
  },
  {
   "cell_type": "code",
   "execution_count": 229,
   "metadata": {},
   "outputs": [
    {
     "name": "stderr",
     "output_type": "stream",
     "text": [
      "<ipython-input-229-c5aa34802e31>:20: RuntimeWarning: invalid value encountered in subtract\n",
      "  score_difference.append(score_fraudulent_firm[i]-score_Not_fraudulent_firm[i])\n"
     ]
    },
    {
     "data": {
      "text/plain": [
       "0.1630901287553648"
      ]
     },
     "execution_count": 229,
     "metadata": {},
     "output_type": "execute_result"
    }
   ],
   "source": [
    "# Classification with Naive Bayes Epanechnikov Kernel function\n",
    "fraudulent_firm = pd.concat([X_train,y_train],axis=1)[pd.concat([X_train,y_train],axis=1)[\"Risk\"]==1]\n",
    "Not_fraudulent_firm = pd.concat([X_train,y_train],axis=1)[pd.concat([X_train,y_train],axis=1)[\"Risk\"]==0]\n",
    "score_fraudulent_firm = [] \n",
    "score_Not_fraudulent_firm = [] \n",
    "kde_model = KernelDensity(kernel='epanechnikov', bandwidth=0.5)\n",
    "\n",
    "#1. scores for fraudulent_firm: \n",
    "for i in range(0,25):\n",
    "    kde_model.fit(fraudulent_firm[[i]])\n",
    "    score_fraudulent_firm.append(kde_model.score_samples(X_test[[i]]))\n",
    "    \n",
    "#2. scores for non fraudulent_firm: \n",
    "for i in range(0,25):\n",
    "    kde_model.fit(Not_fraudulent_firm[[i]])\n",
    "    score_Not_fraudulent_firm.append(kde_model.score_samples(X_test[[i]]))\n",
    "\n",
    "score_difference = []\n",
    "for i in range(0,25):\n",
    "    score_difference.append(score_fraudulent_firm[i]-score_Not_fraudulent_firm[i])\n",
    "\n",
    "score_difference_test = np.sum(np.array(list(map(list, zip(*score_difference)))),axis = 1) + np.log((len(y_test[y_test['Risk'] ==1])/len(y_test))/(1-len(y_test[y_test['Risk'] ==1])/len(y_test)))\n",
    "# Fitted values\n",
    "Y_fitted = pd.DataFrame(np.where(score_difference_test>0, 1, 0))\n",
    "# Calculate error rate\n",
    "Error_rate = np.sum(np.abs(Y_fitted.iloc[:,0]-y_test.iloc[:,0]))/len(Y_fitted)\n",
    "Error_rate"
   ]
  }
 ],
 "metadata": {
  "kernelspec": {
   "display_name": "Python 3",
   "language": "python",
   "name": "python3"
  },
  "language_info": {
   "codemirror_mode": {
    "name": "ipython",
    "version": 3
   },
   "file_extension": ".py",
   "mimetype": "text/x-python",
   "name": "python",
   "nbconvert_exporter": "python",
   "pygments_lexer": "ipython3",
   "version": "3.8.5"
  }
 },
 "nbformat": 4,
 "nbformat_minor": 4
}
